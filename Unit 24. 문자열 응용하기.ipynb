{
 "cells": [
  {
   "cell_type": "markdown",
   "id": "0e4de410",
   "metadata": {},
   "source": [
    "### Unit 24. 문자열 응용하기"
   ]
  },
  {
   "cell_type": "markdown",
   "id": "4e5aad52",
   "metadata": {},
   "source": [
    "#### 24-1. 문자열 조작하기\n",
    "- 메서드 체이닝 : 메서드 계속 연결\n",
    "- 문자열 바꾸기 : replace\n",
    "- 문자 바꾸기 : maketrans / translate(table)\n",
    "- 문자열 분리하기 : split\n",
    "- 구분자 문자열과 문자열 리스트 연결하기 : join\n",
    "- 소문자를 대문자로 바꾸기 : upper\n",
    "- 대문자를 소문자로 바꾸기 : lower\n",
    "- 공백 및 특정문자 삭제하기 : lstrip, rstrip, strip\n",
    "- 구두점 및 공백 삭제하기 : strip(string.punctuation + ‘ ‘)\n",
    "- 메서드 체이닝 : strip(string.punctuation).strip()\n",
    "- 문자열 정렬하기 : ljust, rjust, center\n",
    "- 문자열 채우기 : zfill\n",
    "- 문자열 찾기 : find, rfind, index, rindex\n",
    "- 문자열 세기 : count"
   ]
  },
  {
   "cell_type": "markdown",
   "id": "1f448f6d",
   "metadata": {},
   "source": [
    "#### 24-2. 문자열 서식 지정자와 포매팅 사용\n",
    "- 서식 지정자(format specifier) : ‘%s’ % ‘문자열’ \n",
    "    - 문자 : %s / 숫자 : %d / 소수점 : %f / 자릿수 : %.자릿수f / 문자열 정렬 : %길이s or %-길이s\n",
    "- 서식 지정자, 값 여러 개 넣기 : '%d %s' % (숫자, '문자열')\n",
    "- format 메서드 사용 : '{인덱스}'.format(값)\n",
    "- format 메서드 사용, 값 여러 개 넣기 : '{인덱스} {인덱스1}'.format(값, 값)\n",
    "- format 메서드 사용, 같은 값 여러개 넣기 : '{0} {0} {1} {1}'.format('Python', 'Script')\n",
    "- format 메서드 사용, 인덱스 생략하기 : 'Hello, {} {} {}'.format('Python', 'Script', 3.6)\n",
    "- format 메서드에서 인덱스 대신 이름 지정 : 'Hello, {language} {version}'.format(language='Python', version=3.6)\n",
    "- format 메서드로 문자열 정렬 : '{인덱스:<길이}'.format(값)\n",
    "- 문자열 포매팅에 변수를 그대로 사용 : f'Hello, {language} {version}’\n",
    "- 중괄호 출력하기 : '{{ {0} }}'.format('Python')\n",
    "- 숫자 개수 맞추기 : '%0개수d' % 숫자 or '{인덱스:0개수d'}'.format(숫자)\n",
    "- 실수 개수 맞추기 : '%0개수.자릿수f' % 숫자 or '{인덱스:0개수.자릿수f'}.format(숫자)\n",
    "- 채우기 및 정렬 조합 : '{인덱스:[[채우기]정렬][길이][.자릿수][자료형]}’\n",
    "- 천단위로 콤마 넣기 : format(1493500, ',')\n",
    "- raw 문자열 사용하기 : print(r’문자열’)"
   ]
  },
  {
   "cell_type": "markdown",
   "id": "5a4ec4ff",
   "metadata": {},
   "source": [
    "### 실습"
   ]
  },
  {
   "cell_type": "code",
   "execution_count": 2,
   "id": "a5c4310a",
   "metadata": {},
   "outputs": [
    {
     "data": {
      "text/plain": [
       "'Hello, woongcheol!'"
      ]
     },
     "execution_count": 2,
     "metadata": {},
     "output_type": "execute_result"
    }
   ],
   "source": [
    "'Hello, python!'.replace('python', 'woongcheol')"
   ]
  },
  {
   "cell_type": "code",
   "execution_count": 3,
   "id": "9a6f2e1b",
   "metadata": {},
   "outputs": [
    {
     "data": {
      "text/plain": [
       "'Hi, woongcheol!'"
      ]
     },
     "execution_count": 3,
     "metadata": {},
     "output_type": "execute_result"
    }
   ],
   "source": [
    "'Hi, python!'.replace('python', 'woongcheol')"
   ]
  },
  {
   "cell_type": "code",
   "execution_count": 13,
   "id": "4979f2b3",
   "metadata": {},
   "outputs": [
    {
     "name": "stdout",
     "output_type": "stream",
     "text": [
      "Welcome, Python!\n"
     ]
    },
    {
     "data": {
      "text/plain": [
       "'Welcome, Python!'"
      ]
     },
     "execution_count": 13,
     "metadata": {},
     "output_type": "execute_result"
    }
   ],
   "source": [
    "str = 'Welcome, Codingdojang!' # 변수에 할당 후 메서드 체이닝으로 적용!\n",
    "str = str.replace('Codingdojang', 'Python') # 대소문자를 구분해야한다.\n",
    "print(str) # 결과 출력\n",
    "str # str 출력"
   ]
  },
  {
   "cell_type": "code",
   "execution_count": 6,
   "id": "c7887afd",
   "metadata": {},
   "outputs": [
    {
     "data": {
      "text/plain": [
       "'1ppl5'"
      ]
     },
     "execution_count": 6,
     "metadata": {},
     "output_type": "execute_result"
    }
   ],
   "source": [
    "table = str.maketrans('abcde', '12345')\n",
    "'apple'.translate(table)"
   ]
  },
  {
   "cell_type": "code",
   "execution_count": 16,
   "id": "ce24c552",
   "metadata": {},
   "outputs": [
    {
     "data": {
      "text/plain": [
       "'13345'"
      ]
     },
     "execution_count": 16,
     "metadata": {},
     "output_type": "execute_result"
    }
   ],
   "source": [
    "table = str.maketrans('apple', '12345') # 테이블 생성 및 인자 값 적용\n",
    "'apple'.translate(table) # 같은 값 'p'는 나중에 나온 값으로 적용"
   ]
  },
  {
   "cell_type": "code",
   "execution_count": 17,
   "id": "ceaa1f0a",
   "metadata": {},
   "outputs": [
    {
     "data": {
      "text/plain": [
       "['apple', 'pear', 'grape', 'pineapple', 'orange']"
      ]
     },
     "execution_count": 17,
     "metadata": {},
     "output_type": "execute_result"
    }
   ],
   "source": [
    "'apple pear grape pineapple orange'.split() # 공백을 기준으로 문자열 분리, 리스트 생성"
   ]
  },
  {
   "cell_type": "code",
   "execution_count": 28,
   "id": "b2974c63",
   "metadata": {},
   "outputs": [
    {
     "data": {
      "text/plain": [
       "['apple', 'pear', 'grape', 'pineapple', 'orange']"
      ]
     },
     "execution_count": 28,
     "metadata": {},
     "output_type": "execute_result"
    }
   ],
   "source": [
    "'apple, pear, grape, pineapple, orange'.split(', ') # 문자열 기준으로 분리"
   ]
  },
  {
   "cell_type": "code",
   "execution_count": 31,
   "id": "594d67af",
   "metadata": {},
   "outputs": [
    {
     "data": {
      "text/plain": [
       "'apple pear grape pineapple orange'"
      ]
     },
     "execution_count": 31,
     "metadata": {},
     "output_type": "execute_result"
    }
   ],
   "source": [
    "' '.join(['apple', 'pear', 'grape', 'pineapple', 'orange']) # 공백 기준으로 문자열 합치기, 문자열 생성"
   ]
  },
  {
   "cell_type": "code",
   "execution_count": 32,
   "id": "8d98bfe2",
   "metadata": {},
   "outputs": [
    {
     "data": {
      "text/plain": [
       "'PYTHON'"
      ]
     },
     "execution_count": 32,
     "metadata": {},
     "output_type": "execute_result"
    }
   ],
   "source": [
    "'python'.upper() # 소문자를 대문자로 바꾸기"
   ]
  },
  {
   "cell_type": "code",
   "execution_count": 33,
   "id": "cbac47bf",
   "metadata": {},
   "outputs": [
    {
     "data": {
      "text/plain": [
       "'python'"
      ]
     },
     "execution_count": 33,
     "metadata": {},
     "output_type": "execute_result"
    }
   ],
   "source": [
    "'PYTHON'.lower() # 대문자를 소문자로 바꾸기"
   ]
  },
  {
   "cell_type": "code",
   "execution_count": 34,
   "id": "d2b6a27e",
   "metadata": {},
   "outputs": [
    {
     "data": {
      "text/plain": [
       "'python      '"
      ]
     },
     "execution_count": 34,
     "metadata": {},
     "output_type": "execute_result"
    }
   ],
   "source": [
    "'     python      '.lstrip() # 왼쪽 공백 삭제"
   ]
  },
  {
   "cell_type": "code",
   "execution_count": 35,
   "id": "b81f0ccf",
   "metadata": {},
   "outputs": [
    {
     "data": {
      "text/plain": [
       "'     python'"
      ]
     },
     "execution_count": 35,
     "metadata": {},
     "output_type": "execute_result"
    }
   ],
   "source": [
    "'     python      '.rstrip() # 오른쪽 공백 삭제"
   ]
  },
  {
   "cell_type": "code",
   "execution_count": 36,
   "id": "da3c899b",
   "metadata": {},
   "outputs": [
    {
     "data": {
      "text/plain": [
       "'python'"
      ]
     },
     "execution_count": 36,
     "metadata": {},
     "output_type": "execute_result"
    }
   ],
   "source": [
    "'     python      '.strip() # 공백 삭제"
   ]
  },
  {
   "cell_type": "code",
   "execution_count": 38,
   "id": "004e7fc4",
   "metadata": {},
   "outputs": [
    {
     "data": {
      "text/plain": [
       "' python.'"
      ]
     },
     "execution_count": 38,
     "metadata": {},
     "output_type": "execute_result"
    }
   ],
   "source": [
    "', python.'.lstrip(',.') # 왼쪽 특정문자 삭제"
   ]
  },
  {
   "cell_type": "code",
   "execution_count": 39,
   "id": "c48b57ba",
   "metadata": {},
   "outputs": [
    {
     "data": {
      "text/plain": [
       "', python'"
      ]
     },
     "execution_count": 39,
     "metadata": {},
     "output_type": "execute_result"
    }
   ],
   "source": [
    "', python.'.rstrip(',.') # 왼쪽 특정문자 삭제"
   ]
  },
  {
   "cell_type": "code",
   "execution_count": 40,
   "id": "9830b56a",
   "metadata": {},
   "outputs": [
    {
     "data": {
      "text/plain": [
       "' python'"
      ]
     },
     "execution_count": 40,
     "metadata": {},
     "output_type": "execute_result"
    }
   ],
   "source": [
    "', python.'.strip(',.') # 특정문자 삭제"
   ]
  },
  {
   "cell_type": "code",
   "execution_count": 44,
   "id": "bc92a73e",
   "metadata": {},
   "outputs": [
    {
     "data": {
      "text/plain": [
       "' python'"
      ]
     },
     "execution_count": 44,
     "metadata": {},
     "output_type": "execute_result"
    }
   ],
   "source": [
    "import string\n",
    "', python.'.strip(string.punctuation) # string 모듈, punctuaiton 사용 구두점 제거"
   ]
  },
  {
   "cell_type": "code",
   "execution_count": 46,
   "id": "77218637",
   "metadata": {},
   "outputs": [
    {
     "data": {
      "text/plain": [
       "'python'"
      ]
     },
     "execution_count": 46,
     "metadata": {},
     "output_type": "execute_result"
    }
   ],
   "source": [
    "import string\n",
    "', python.'.strip(string.punctuation + ' ') # string 모듈, punctuaiton 사용 구두점 및 공백 제거"
   ]
  },
  {
   "cell_type": "code",
   "execution_count": 47,
   "id": "0302e2bb",
   "metadata": {},
   "outputs": [
    {
     "data": {
      "text/plain": [
       "'python'"
      ]
     },
     "execution_count": 47,
     "metadata": {},
     "output_type": "execute_result"
    }
   ],
   "source": [
    "import string\n",
    "', python.'.strip(string.punctuation).strip() # string 모듈, punctuaiton 사용 메서드 체이닝"
   ]
  },
  {
   "cell_type": "code",
   "execution_count": 52,
   "id": "6dae94c1",
   "metadata": {},
   "outputs": [
    {
     "data": {
      "text/plain": [
       "'python    '"
      ]
     },
     "execution_count": 52,
     "metadata": {},
     "output_type": "execute_result"
    }
   ],
   "source": [
    "'python'.ljust(10) # 문자 왼쪽 정렬, 10칸"
   ]
  },
  {
   "cell_type": "code",
   "execution_count": 53,
   "id": "c383d096",
   "metadata": {},
   "outputs": [
    {
     "data": {
      "text/plain": [
       "'    python'"
      ]
     },
     "execution_count": 53,
     "metadata": {},
     "output_type": "execute_result"
    }
   ],
   "source": [
    "'python'.rjust(10) # 문자 오른쪽 정렬, 10칸"
   ]
  },
  {
   "cell_type": "code",
   "execution_count": 54,
   "id": "a4b175d2",
   "metadata": {},
   "outputs": [
    {
     "data": {
      "text/plain": [
       "'  python  '"
      ]
     },
     "execution_count": 54,
     "metadata": {},
     "output_type": "execute_result"
    }
   ],
   "source": [
    "'python'.center(10) # 문자 가운데 정렬, 10칸"
   ]
  },
  {
   "cell_type": "code",
   "execution_count": 55,
   "id": "493902b6",
   "metadata": {},
   "outputs": [
    {
     "data": {
      "text/plain": [
       "'    PYTHON'"
      ]
     },
     "execution_count": 55,
     "metadata": {},
     "output_type": "execute_result"
    }
   ],
   "source": [
    "'python'.rjust(10).upper() # 메서드 체이닝, 오른쪽 정렬 + 대문자"
   ]
  },
  {
   "cell_type": "code",
   "execution_count": 56,
   "id": "d2380223",
   "metadata": {},
   "outputs": [
    {
     "data": {
      "text/plain": [
       "'0035'"
      ]
     },
     "execution_count": 56,
     "metadata": {},
     "output_type": "execute_result"
    }
   ],
   "source": [
    "'35'.zfill(4) # 숫자 앞 0 채우기"
   ]
  },
  {
   "cell_type": "code",
   "execution_count": 58,
   "id": "af60a0de",
   "metadata": {},
   "outputs": [
    {
     "data": {
      "text/plain": [
       "'0003.5'"
      ]
     },
     "execution_count": 58,
     "metadata": {},
     "output_type": "execute_result"
    }
   ],
   "source": [
    "'3.5'.zfill(6) # 숫자 앞 0 채우기"
   ]
  },
  {
   "cell_type": "code",
   "execution_count": 61,
   "id": "e49ebb12",
   "metadata": {},
   "outputs": [
    {
     "data": {
      "text/plain": [
       "2"
      ]
     },
     "execution_count": 61,
     "metadata": {},
     "output_type": "execute_result"
    }
   ],
   "source": [
    "'apple pineapple'.find('pl') # 왼쪽에서 문자열 찾기"
   ]
  },
  {
   "cell_type": "code",
   "execution_count": 60,
   "id": "0d4db338",
   "metadata": {},
   "outputs": [
    {
     "data": {
      "text/plain": [
       "-1"
      ]
     },
     "execution_count": 60,
     "metadata": {},
     "output_type": "execute_result"
    }
   ],
   "source": [
    "'apple pineapple'.find('xy') # 없는 문자열 찾기"
   ]
  },
  {
   "cell_type": "code",
   "execution_count": 62,
   "id": "f9b1a56f",
   "metadata": {},
   "outputs": [
    {
     "data": {
      "text/plain": [
       "12"
      ]
     },
     "execution_count": 62,
     "metadata": {},
     "output_type": "execute_result"
    }
   ],
   "source": [
    "'apple pineapple'.rfind('pl') # 오른쪽에서 문자열 찾기"
   ]
  },
  {
   "cell_type": "code",
   "execution_count": 63,
   "id": "c51494e2",
   "metadata": {},
   "outputs": [
    {
     "data": {
      "text/plain": [
       "-1"
      ]
     },
     "execution_count": 63,
     "metadata": {},
     "output_type": "execute_result"
    }
   ],
   "source": [
    "'apple pineapple'.rfind('xy') # 없는 문자열 찾기"
   ]
  },
  {
   "cell_type": "code",
   "execution_count": 64,
   "id": "ce5e80fb",
   "metadata": {},
   "outputs": [
    {
     "data": {
      "text/plain": [
       "2"
      ]
     },
     "execution_count": 64,
     "metadata": {},
     "output_type": "execute_result"
    }
   ],
   "source": [
    "'apple pineapple'.index('pl') # 왼쪽에서 문자열 찾기"
   ]
  },
  {
   "cell_type": "code",
   "execution_count": 65,
   "id": "53fb1aa3",
   "metadata": {},
   "outputs": [
    {
     "data": {
      "text/plain": [
       "12"
      ]
     },
     "execution_count": 65,
     "metadata": {},
     "output_type": "execute_result"
    }
   ],
   "source": [
    "'apple pineapple'.rindex('pl') # 오른쪽에서 문자열 찾기"
   ]
  },
  {
   "cell_type": "code",
   "execution_count": 67,
   "id": "c507aa53",
   "metadata": {},
   "outputs": [
    {
     "ename": "ValueError",
     "evalue": "substring not found",
     "output_type": "error",
     "traceback": [
      "\u001b[0;31m---------------------------------------------------------------------------\u001b[0m",
      "\u001b[0;31mValueError\u001b[0m                                Traceback (most recent call last)",
      "\u001b[0;32m/tmp/ipykernel_3518/1541191086.py\u001b[0m in \u001b[0;36m<module>\u001b[0;34m\u001b[0m\n\u001b[0;32m----> 1\u001b[0;31m \u001b[0;34m'apple pineapple'\u001b[0m\u001b[0;34m.\u001b[0m\u001b[0mindex\u001b[0m\u001b[0;34m(\u001b[0m\u001b[0;34m'xy'\u001b[0m\u001b[0;34m)\u001b[0m \u001b[0;31m# 왼쪽에서 문자열 찾기\u001b[0m\u001b[0;34m\u001b[0m\u001b[0;34m\u001b[0m\u001b[0m\n\u001b[0m",
      "\u001b[0;31mValueError\u001b[0m: substring not found"
     ]
    }
   ],
   "source": [
    "'apple pineapple'.index('xy') # 없는 값은 에러 발생"
   ]
  },
  {
   "cell_type": "code",
   "execution_count": 71,
   "id": "0d09179b",
   "metadata": {},
   "outputs": [
    {
     "data": {
      "text/plain": [
       "5"
      ]
     },
     "execution_count": 71,
     "metadata": {},
     "output_type": "execute_result"
    }
   ],
   "source": [
    "'apple pineapple'.count('p') # 문자열 개수 세기"
   ]
  }
 ],
 "metadata": {
  "kernelspec": {
   "display_name": "Python 3 (ipykernel)",
   "language": "python",
   "name": "python3"
  },
  "language_info": {
   "codemirror_mode": {
    "name": "ipython",
    "version": 3
   },
   "file_extension": ".py",
   "mimetype": "text/x-python",
   "name": "python",
   "nbconvert_exporter": "python",
   "pygments_lexer": "ipython3",
   "version": "3.9.7"
  }
 },
 "nbformat": 4,
 "nbformat_minor": 5
}
